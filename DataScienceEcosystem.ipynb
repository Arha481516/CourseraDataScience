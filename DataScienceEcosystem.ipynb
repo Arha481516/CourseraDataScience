{
 "cells": [
  {
   "cell_type": "markdown",
   "id": "c8a5a085-1cb5-49ba-98eb-b930690e4e8f",
   "metadata": {},
   "source": [
    "# Data Science Tools and Ecosystem"
   ]
  },
  {
   "cell_type": "markdown",
   "id": "9be9af5b-06f2-4682-b53e-7789a2344a26",
   "metadata": {},
   "source": [
    "This notebook summarizes data science tools and ecosystem."
   ]
  },
  {
   "cell_type": "markdown",
   "id": "d0ea6e41-12a8-46a7-8e07-78ec20c9d879",
   "metadata": {},
   "source": [
    "**Objectives:** \n",
    "- List popular languages for data science\n",
    "- List commonly used code libraries for data science\n",
    "- List some open source data science tools\n",
    "- Demonstrate arithmetic expression code"
   ]
  },
  {
   "cell_type": "markdown",
   "id": "2ff34b62-b5ea-4b39-8bf3-f3d2cb4948a4",
   "metadata": {},
   "source": [
    "These are some popular languages that Data Scientists use:\n",
    "1. Python\n",
    "2. R\n",
    "3. SQL\n",
    "4. Julia\n",
    "5. Scala\n",
    "6. Java\n",
    "7. C++\n",
    "8. Javascript"
   ]
  },
  {
   "cell_type": "markdown",
   "id": "566f7e00-44e6-488c-8ab1-ee61e5c2e5d6",
   "metadata": {},
   "source": [
    "These are some commonly used code libraries used by Data Scientists:\n",
    "1. Pandas: a Python data analysis library\n",
    "2. NumPy: a Python scientific computation library\n",
    "3. Matplotlib: a Python data visualization library\n",
    "4. PyTorch: a Python machine learning library\n",
    "5. TensorFlow: a machine learning framework which supports several languages\n",
    "6. ggplot, ggplot2: R language libraries for daya visualizations"
   ]
  },
  {
   "cell_type": "markdown",
   "id": "46ca6702-800c-4731-a790-a876fcec815a",
   "metadata": {},
   "source": [
    "| Data Science Tools |\n",
    "| --- |\n",
    "| Jupyter Notebook |\n",
    "| RStudio |\n",
    "| Apache Spark |"
   ]
  },
  {
   "cell_type": "markdown",
   "id": "f0948c75-c64e-4a68-be35-2c0b076b77be",
   "metadata": {},
   "source": [
    "### Below are some examples of evaluating arithmetic expressions in Python:"
   ]
  },
  {
   "cell_type": "code",
   "execution_count": 1,
   "id": "7e572284-b5d3-4cd9-8567-70ae7cb15371",
   "metadata": {},
   "outputs": [
    {
     "data": {
      "text/plain": [
       "17"
      ]
     },
     "execution_count": 1,
     "metadata": {},
     "output_type": "execute_result"
    }
   ],
   "source": [
    "# This is a simple arithmetic expression to multiply then add integers\n",
    "(3*4)+5"
   ]
  },
  {
   "cell_type": "code",
   "execution_count": 2,
   "id": "d6001082-dbd4-4090-81dd-b93241a20a00",
   "metadata": {},
   "outputs": [
    {
     "data": {
      "text/plain": [
       "3.3333333333333335"
      ]
     },
     "execution_count": 2,
     "metadata": {},
     "output_type": "execute_result"
    }
   ],
   "source": [
    "# This converts 200 minutes to hours by dividing by 60\n",
    "200/60"
   ]
  },
  {
   "cell_type": "markdown",
   "id": "f8996f00-7f2f-4bec-baaa-b83cbd5e6579",
   "metadata": {},
   "source": [
    "## Author\n",
    "Jo Kleiman"
   ]
  }
 ],
 "metadata": {
  "kernelspec": {
   "display_name": "Python 3 (ipykernel)",
   "language": "python",
   "name": "python3"
  },
  "language_info": {
   "codemirror_mode": {
    "name": "ipython",
    "version": 3
   },
   "file_extension": ".py",
   "mimetype": "text/x-python",
   "name": "python",
   "nbconvert_exporter": "python",
   "pygments_lexer": "ipython3",
   "version": "3.12.9"
  }
 },
 "nbformat": 4,
 "nbformat_minor": 5
}
